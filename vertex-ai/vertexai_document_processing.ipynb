{
 "cells": [
  {
   "cell_type": "markdown",
   "id": "34f9c72d",
   "metadata": {},
   "source": [
    "# Document Processing"
   ]
  },
  {
   "cell_type": "code",
   "execution_count": 5,
   "id": "3efcacd9",
   "metadata": {},
   "outputs": [],
   "source": [
    "import vertexai_start\n",
    "from vertexai.generative_models import GenerativeModel\n",
    "from vertexai.generative_models import Part"
   ]
  },
  {
   "cell_type": "code",
   "execution_count": 10,
   "id": "594ee787",
   "metadata": {},
   "outputs": [
    {
     "name": "stderr",
     "output_type": "stream",
     "text": [
      "/home/diogo/miniconda3/envs/vertexai_env/lib/python3.9/site-packages/vertexai/generative_models/_generative_models.py:433: UserWarning: This feature is deprecated as of June 24, 2025 and will be removed on June 24, 2026. For details, see https://cloud.google.com/vertex-ai/generative-ai/docs/deprecations/genai-vertexai-sdk.\n",
      "  warning_logs.show_deprecation_warning()\n"
     ]
    },
    {
     "data": {
      "text/plain": [
       "'This paper introduces the Transformer, a novel neural network architecture that relies solely on attention mechanisms, achieving state-of-the-art performance and increased efficiency in sequence transduction tasks like machine translation compared to recurrent or convolutional models.'"
      ]
     },
     "execution_count": 10,
     "metadata": {},
     "output_type": "execute_result"
    }
   ],
   "source": [
    "model = GenerativeModel(\"gemini-2.5-flash\")\n",
    "\n",
    "prompt = \"In one sentence give me the summary of this pdf file.\"\n",
    "pdf_file = Part.from_uri(\n",
    "    \"gs://cloud-samples-data/generative-ai/pdf/1706.03762v7.pdf\",\n",
    "    mime_type=\"application/pdf\",\n",
    ")\n",
    "response = model.generate_content([pdf_file,prompt])\n",
    "response.text"
   ]
  }
 ],
 "metadata": {
  "kernelspec": {
   "display_name": "vertexai_env",
   "language": "python",
   "name": "python3"
  },
  "language_info": {
   "codemirror_mode": {
    "name": "ipython",
    "version": 3
   },
   "file_extension": ".py",
   "mimetype": "text/x-python",
   "name": "python",
   "nbconvert_exporter": "python",
   "pygments_lexer": "ipython3",
   "version": "3.9.23"
  }
 },
 "nbformat": 4,
 "nbformat_minor": 5
}
