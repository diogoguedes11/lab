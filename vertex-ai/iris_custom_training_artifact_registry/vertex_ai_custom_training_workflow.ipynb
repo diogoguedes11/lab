{
 "cells": [
  {
   "cell_type": "markdown",
   "metadata": {},
   "source": [
    "# Vertex AI Custom Training with Docker\n",
    "\n",
    "This notebook demonstrates how to build, push, and run a custom training job on Vertex AI using Docker with the correct region configuration."
   ]
  },
  {
   "cell_type": "markdown",
   "metadata": {},
   "source": [
    "## 1. Initialize Vertex AI\n",
    "\n",
    "First, let's initialize Vertex AI with the correct project and region settings."
   ]
  },
  {
   "cell_type": "code",
   "execution_count": null,
   "metadata": {},
   "outputs": [],
   "source": [
    "import sys\n",
    "sys.path.append('..')\n",
    "import vertexai_start\n",
    "import os\n",
    "\n",
    "PROJECT_ID = os.getenv(\"VERTEX_PROJECT_ID\")\n",
    "REGION = os.getenv(\"VERTEX_REGION\")\n",
    "\n",
    "print(f\"Project ID: {PROJECT_ID}\")\n",
    "print(f\"Region: {REGION}\")"
   ]
  },
  {
   "cell_type": "markdown",
   "metadata": {},
   "source": [
    "## 2. Build and Push Docker Image\n",
    "\n",
    "**Important**: The image URI uses `us-central1` region, not `europe-west4`. This fixes the original error."
   ]
  },
  {
   "cell_type": "code",
   "execution_count": null,
   "metadata": {},
   "outputs": [],
   "source": [
    "# Correct image URI with us-central1 region\n",
    "IMAGE_URI = f\"{REGION}-docker.pkg.dev/{PROJECT_ID}/custom-training/iris-custom-training:latest\"\n",
    "print(f\"Image URI: {IMAGE_URI}\")\n",
    "\n",
    "# Note: This assumes the Artifact Registry repository 'custom-training' exists\n",
    "# You may need to create it first:\n",
    "# gcloud artifacts repositories create custom-training --repository-format=docker --location=us-central1"
   ]
  },
  {
   "cell_type": "code",
   "execution_count": null,
   "metadata": {},
   "outputs": [],
   "source": [
    "# Build and push the Docker image\n",
    "# Run this in the terminal from the iris_custom_training_artifact_registry directory:\n",
    "# ./build_and_push.sh\n",
    "\n",
    "print(\"To build and push the image, run the following command in the terminal:\")\n",
    "print(\"cd iris_custom_training_artifact_registry\")\n",
    "print(\"./build_and_push.sh\")"
   ]
  },
  {
   "cell_type": "markdown",
   "metadata": {},
   "source": [
    "## 3. Submit Custom Training Job\n",
    "\n",
    "Now we can submit the custom training job using the correct image URI."
   ]
  },
  {
   "cell_type": "code",
   "execution_count": null,
   "metadata": {},
   "outputs": [],
   "source": [
    "from google.cloud import aiplatform\n",
    "\n",
    "# Create custom job\n",
    "job = aiplatform.CustomJob(\n",
    "    display_name=\"iris-custom-training-job\",\n",
    "    worker_pool_specs=[\n",
    "        {\n",
    "            \"machine_spec\": {\n",
    "                \"machine_type\": \"n1-standard-4\",\n",
    "            },\n",
    "            \"replica_count\": 1,\n",
    "            \"container_spec\": {\n",
    "                \"image_uri\": IMAGE_URI,\n",
    "            },\n",
    "        }\n",
    "    ],\n",
    ")\n",
    "\n",
    "print(f\"Created job with image: {IMAGE_URI}\")"
   ]
  },
  {
   "cell_type": "code",
   "execution_count": null,
   "metadata": {},
   "outputs": [],
   "source": [
    "# Submit the job (uncomment to run)\n",
    "# job.run(\n",
    "#     service_account=None,\n",
    "#     timeout=3600,\n",
    "#     restart_job_on_user_error=False,\n",
    "# )\n",
    "\n",
    "print(\"Job configuration ready. Uncomment the above code to submit the job.\")"
   ]
  },
  {
   "cell_type": "markdown",
   "metadata": {},
   "source": [
    "## Key Fixes Applied\n",
    "\n",
    "1. **Region Consistency**: Changed from `europe-west4` to `us-central1` to match the Vertex AI configuration.\n",
    "2. **Correct Image URI**: Using `us-central1-docker.pkg.dev` instead of `europe-west4-docker.pkg.dev`.\n",
    "3. **Proper Scripts**: Created build and submission scripts to automate the workflow.\n",
    "\n",
    "## Prerequisites\n",
    "\n",
    "Before running this workflow, ensure:\n",
    "\n",
    "1. Artifact Registry repository exists:\n",
    "   ```bash\n",
    "   gcloud artifacts repositories create custom-training --repository-format=docker --location=us-central1\n",
    "   ```\n",
    "\n",
    "2. Docker is configured for Artifact Registry:\n",
    "   ```bash\n",
    "   gcloud auth configure-docker us-central1-docker.pkg.dev\n",
    "   ```\n",
    "\n",
    "3. Appropriate IAM permissions for Vertex AI and Artifact Registry."
   ]
  }
 ],
 "metadata": {
  "kernelspec": {
   "display_name": "Python 3",
   "language": "python",
   "name": "python3"
  },
  "language_info": {
   "codemirror_mode": {
    "name": "ipython",
    "version": 3
   },
   "file_extension": ".py",
   "mimetype": "text/x-python",
   "name": "python",
   "nbconvert_exporter": "python",
   "pygments_lexer": "ipython3",
   "version": "3.9.23"
  }
 },
 "nbformat": 4,
 "nbformat_minor": 4
}