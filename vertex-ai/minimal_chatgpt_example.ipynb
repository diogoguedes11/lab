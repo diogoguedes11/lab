{
 "cells": [
  {
   "cell_type": "code",
   "execution_count": 1,
   "id": "c2a1fa10-268b-43a0-85db-b2b5c1addc46",
   "metadata": {},
   "outputs": [],
   "source": [
    "import ipywidgets as widgets"
   ]
  },
  {
   "cell_type": "code",
   "execution_count": 2,
   "id": "f7637bf5-0085-44d6-819e-4d1d7f84688f",
   "metadata": {},
   "outputs": [],
   "source": [
    "title = widgets.HTML(\n",
    "    value=\"Minimal <b>ChatGPT Clone</b>\",\n",
    ")\n",
    "input_box = widgets.Textarea(\n",
    "    value='',\n",
    "    placeholder='Ask anything',\n",
    "    disabled=False,\n",
    "    layout=widgets.Layout(width='100%', height='100px'),\n",
    "    style={'description_width': 'initial'}\n",
    ")\n",
    "btn = widgets.Button(\n",
    "    description='Send Message',\n",
    "    button_style='info',\n",
    "    tooltip='Click to send your message',\n",
    "    icon='paper-plane',\n",
    ")\n",
    "\n",
    "output_area = widgets.Output(\n",
    "    layout=widgets.Layout(border='1px solid #007BFF', width='100%', height='300px', overflow='auto')\n",
    ")\n"
   ]
  },
  {
   "cell_type": "code",
   "execution_count": 3,
   "id": "b2d75c17-422f-4c98-a7f0-f201254d00e2",
   "metadata": {},
   "outputs": [],
   "source": [
    "import os\n",
    "from openai import OpenAI\n",
    "def get_openai_response(user_message) -> str: \n",
    "    client = OpenAI()\n",
    "    system_prompt = \"\"\"\n",
    "        Annual Leave: Employees are entitled to 20 days of paid leave per year, which can be accrued but must be used within the fiscal year.\n",
    "        Health Benefits: Eligibility for health benefits, including medical and dental, begins 60 days after employment.\n",
    "        Payroll: Payroll is processed on the last working day of the month. Any discrepancies should be reported immediately for correction in the next cycle.\n",
    "        Flexible Working Hours: Employees may start their day anytime between 7:00 AM and 10:00 AM, provided they coordinate with their manager and complete the standard 8-hour workday.\n",
    "        Professional Development: Employees have a budget of $2000 per year for attending conferences and training sessions. This budget covers all related expenses including transportation, accommodation, and registration fees. Applications for sponsorship must be approved based on departmental budgets and the relevance of the event to their professional growth.\n",
    "    \"\"\"\n",
    "    response = client.chat.completions.create(\n",
    "        model=\"gpt-4\",\n",
    "        temperature=0.2,\n",
    "        max_tokens=50,\n",
    "        messages=[\n",
    "            {\"role\": \"system\", \"content\": system_prompt},\n",
    "            {\"role\": \"user\", \"content\": user_message}\n",
    "        ]\n",
    "    )\n",
    "    return response.choices[0].message.content\n",
    "\n",
    "#get_openai_response(user_message=\"Is devops engineer a good career choice?\")\n"
   ]
  },
  {
   "cell_type": "code",
   "execution_count": 4,
   "id": "4ece71c6-4969-4120-b18e-cf02e0773345",
   "metadata": {},
   "outputs": [
    {
     "data": {
      "application/vnd.jupyter.widget-view+json": {
       "model_id": "995d513edec140429d1a04b3c6016c37",
       "version_major": 2,
       "version_minor": 0
      },
      "text/plain": [
       "HTML(value='Minimal <b>ChatGPT Clone</b>')"
      ]
     },
     "metadata": {},
     "output_type": "display_data"
    },
    {
     "data": {
      "application/vnd.jupyter.widget-view+json": {
       "model_id": "e45b42e3ae7248889c878164962833df",
       "version_major": 2,
       "version_minor": 0
      },
      "text/plain": [
       "Textarea(value='', layout=Layout(height='100px', width='100%'), placeholder='Ask anything', style=TextStyle(de…"
      ]
     },
     "metadata": {},
     "output_type": "display_data"
    },
    {
     "data": {
      "application/vnd.jupyter.widget-view+json": {
       "model_id": "1e5c1b31d83a4087a5f8927cd895fd50",
       "version_major": 2,
       "version_minor": 0
      },
      "text/plain": [
       "Button(button_style='info', description='Send Message', icon='paper-plane', style=ButtonStyle(), tooltip='Clic…"
      ]
     },
     "metadata": {},
     "output_type": "display_data"
    },
    {
     "data": {
      "application/vnd.jupyter.widget-view+json": {
       "model_id": "c7da365757ed47b18dd2139610711a19",
       "version_major": 2,
       "version_minor": 0
      },
      "text/plain": [
       "Output(layout=Layout(border_bottom='1px solid #007BFF', border_left='1px solid #007BFF', border_right='1px sol…"
      ]
     },
     "metadata": {},
     "output_type": "display_data"
    }
   ],
   "source": [
    "display(title,input_box, btn, output_area)\n",
    "\n",
    "def handle_send_button_click(b):\n",
    "    btn.disabled = True  # Disable the button to prevent multiple clicks\n",
    "    with output_area:\n",
    "        output_area.clear_output(wait=True)\n",
    "        user_message = input_box.value\n",
    "        if user_message.strip() != '':\n",
    "            bot_message = get_openai_response(user_message)\n",
    "            print(f\"Chatbot: {bot_message}\")\n",
    "        btn.disabled = False  # Re-enable the button after displaying the message\n",
    "\n",
    "btn.on_click(handle_send_button_click)"
   ]
  },
  {
   "cell_type": "code",
   "execution_count": null,
   "id": "c4535500-e473-439b-8f9c-702ab20f7b72",
   "metadata": {},
   "outputs": [],
   "source": []
  }
 ],
 "metadata": {
  "kernelspec": {
   "display_name": "Python 3 (ipykernel)",
   "language": "python",
   "name": "python3"
  },
  "language_info": {
   "codemirror_mode": {
    "name": "ipython",
    "version": 3
   },
   "file_extension": ".py",
   "mimetype": "text/x-python",
   "name": "python",
   "nbconvert_exporter": "python",
   "pygments_lexer": "ipython3",
   "version": "3.8.20"
  }
 },
 "nbformat": 4,
 "nbformat_minor": 5
}
