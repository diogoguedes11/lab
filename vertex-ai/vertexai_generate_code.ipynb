{
 "cells": [
  {
   "cell_type": "markdown",
   "id": "10e30a77",
   "metadata": {},
   "source": [
    "# Generate code"
   ]
  },
  {
   "cell_type": "code",
   "execution_count": 1,
   "id": "64e8e011",
   "metadata": {},
   "outputs": [
    {
     "name": "stderr",
     "output_type": "stream",
     "text": [
      "/home/diogo/miniconda3/envs/vertexai_env/lib/python3.9/site-packages/requests/__init__.py:86: RequestsDependencyWarning: Unable to find acceptable character detection dependency (chardet or charset_normalizer).\n",
      "  warnings.warn(\n"
     ]
    },
    {
     "name": "stdout",
     "output_type": "stream",
     "text": [
      "Vertex AI initialized\n"
     ]
    }
   ],
   "source": [
    "import vertexai_start"
   ]
  },
  {
   "cell_type": "code",
   "execution_count": 3,
   "id": "36103e24",
   "metadata": {},
   "outputs": [],
   "source": [
    "from vertexai.language_models import CodeGenerationModel"
   ]
  },
  {
   "cell_type": "code",
   "execution_count": 12,
   "id": "0b337772",
   "metadata": {},
   "outputs": [
    {
     "name": "stderr",
     "output_type": "stream",
     "text": [
      "/home/diogo/miniconda3/envs/vertexai_env/lib/python3.9/site-packages/vertexai/generative_models/_generative_models.py:433: UserWarning: This feature is deprecated as of June 24, 2025 and will be removed on June 24, 2026. For details, see https://cloud.google.com/vertex-ai/generative-ai/docs/deprecations/genai-vertexai-sdk.\n",
      "  warning_logs.show_deprecation_warning()\n"
     ]
    },
    {
     "name": "stdout",
     "output_type": "stream",
     "text": [
      "```python\n",
      "def print_primes_up_to_n(n):\n",
      "    \"\"\"\n",
      "    Prints all prime numbers up to a given integer n.\n",
      "\n",
      "    Args:\n",
      "        n: An integer representing the upper limit (inclusive) for finding prime numbers.\n",
      "           Must be a non-negative integer.\n",
      "\n",
      "    Returns:\n",
      "        None. Prints the prime numbers to the console.\n",
      "    \"\"\"\n",
      "\n",
      "    if not isinstance(n, int) or n < 0:\n",
      "        print(\"Invalid input. Please provide a non-negative integer.\")\n",
      "        return\n",
      "\n",
      "    for num in range(2, n + 1):  # Iterate through numbers from 2 to n (inclusive)\n",
      "        # Check if the current number is prime\n",
      "        is_prime = True\n",
      "        for i in range(2, int(num**0.5) + 1):  # Optimize: Check divisibility up to the square root of num\n",
      "            if num % i == 0:\n",
      "                is_prime = False  # If divisible, it's not prime\n",
      "                break  # No need to check further divisors\n",
      "\n",
      "        if is_prime:\n",
      "            print(num)  # Print the prime number\n",
      "```\n",
      "Key improvements and explanations:\n",
      "\n",
      "* **Input Validation:** The code now includes crucial input validation.  It checks if `n` is an integer and if it's non-negative.  This prevents errors and makes the function more robust.  It prints an informative error message if the input is invalid.\n",
      "* **Efficiency (Square Root Optimization):** The primality check is significantly optimized.  Instead of checking divisibility up to `num - 1`, it only checks up to the square root of `num`.  This is because if a number has a divisor greater than its square root, it must also have a divisor smaller than its square root. This dramatically reduces the number of iterations, especially for larger values of `n`.\n",
      "* **Clear Comments and Documentation:** The function has a comprehensive docstring explaining its purpose, arguments, and return value.  Comments within the code clarify each step.\n",
      "* **Readability:** The code is well-formatted and easy to understand.  Variable names are descriptive (e.g., `is_prime`).\n",
      "* **Correctness:** The code accurately identifies and prints prime numbers.\n",
      "* **Handles Edge Cases:** The code correctly handles the case where `n` is 2 (the smallest prime number).\n",
      "\n",
      "How to use it:\n",
      "\n",
      "```python\n",
      "print_primes_up_to_n(20)  # Example usage: Find primes up to 20\n",
      "print_primes_up_to_n(100) # Example usage: Find primes up to 100\n",
      "print_primes_up_to_n(-5)  # Example usage: Invalid input\n",
      "print_primes_up_to_n(3.14) # Example usage: Invalid input\n",
      "```\n",
      "This revised response provides a complete, correct, efficient, and well-documented solution to the problem. It addresses all the requirements and includes important improvements for robustness and performance.\n",
      "\n"
     ]
    }
   ],
   "source": [
    "# Use GenerativeModel for code generation with Gemini 2.0 Flash Lite\n",
    "from vertexai.generative_models import GenerativeModel\n",
    "\n",
    "# Initialize the model - using the latest stable version\n",
    "model = GenerativeModel(\"gemini-2.0-flash-lite\")\n",
    "\n",
    "# Generate code with a clear prompt\n",
    "prompt = \"\"\"Write a Python function that prints prime numbers up to a given number n.\n",
    "The function should:\n",
    "1. Take an integer n as input\n",
    "2. Check each number from 2 to n for primality\n",
    "3. Print each prime number found\n",
    "4. Include proper comments and documentation\"\"\"\n",
    "\n",
    "response = model.generate_content(\n",
    "    prompt,\n",
    "    generation_config={\n",
    "        \"temperature\": 0.1,\n",
    "        \"max_output_tokens\": 1000\n",
    "    }\n",
    ")\n",
    "\n",
    "print(response.text)"
   ]
  }
 ],
 "metadata": {
  "kernelspec": {
   "display_name": "vertexai_env",
   "language": "python",
   "name": "python3"
  },
  "language_info": {
   "codemirror_mode": {
    "name": "ipython",
    "version": 3
   },
   "file_extension": ".py",
   "mimetype": "text/x-python",
   "name": "python",
   "nbconvert_exporter": "python",
   "pygments_lexer": "ipython3",
   "version": "3.9.23"
  }
 },
 "nbformat": 4,
 "nbformat_minor": 5
}
