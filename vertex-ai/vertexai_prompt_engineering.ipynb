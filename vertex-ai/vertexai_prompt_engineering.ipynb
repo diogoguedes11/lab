{
 "cells": [
  {
   "cell_type": "code",
   "execution_count": 2,
   "id": "09294228-5628-47e4-9dcb-657ce12c86c3",
   "metadata": {},
   "outputs": [],
   "source": [
    "import vertexai_start"
   ]
  },
  {
   "cell_type": "code",
   "execution_count": null,
   "id": "7690c3e9",
   "metadata": {},
   "outputs": [],
   "source": []
  }
 ],
 "metadata": {
  "kernelspec": {
   "display_name": "vertexai_env",
   "language": "python",
   "name": "python3"
  },
  "language_info": {
   "codemirror_mode": {
    "name": "ipython",
    "version": 3
   },
   "file_extension": ".py",
   "mimetype": "text/x-python",
   "name": "python",
   "nbconvert_exporter": "python",
   "pygments_lexer": "ipython3",
   "version": "3.9.23"
  }
 },
 "nbformat": 4,
 "nbformat_minor": 5
}
