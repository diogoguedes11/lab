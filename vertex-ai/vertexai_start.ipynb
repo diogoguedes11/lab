{
 "cells": [
  {
   "cell_type": "code",
   "execution_count": 6,
   "id": "09294228-5628-47e4-9dcb-657ce12c86c3",
   "metadata": {},
   "outputs": [],
   "source": [
    "# Init notebook\n",
    "from google.auth.transport.requests import Request\n",
    "from google.oauth2.service_account import Credentials\n",
    "import vertexai\n",
    "import os\n",
    "os.environ[\"GOOGLE_APPLICATION_CREDENTIALS\"] = \"/home/diogo/Repos/github.com/diogoguedes11/lab/vertex-ai/gcp-network-452116-7c78a1eff948.json\"\n",
    "api_key_path = os.getenv(\"GOOGLE_APPLICATION_CREDENTIALS\")\n",
    "if not api_key_path:\n",
    "     raise ValueError(\"Key not set.\")\n",
    "credentials = Credentials.from_service_account_file(api_key_path,scopes=['https://www.googleapis.com/auth/cloud-platform'])\n",
    "PROJECT_ID=os.getenv(\"VERTEXT_PROJECT_ID\")\n",
    "REGION=os.getenv(\"VERTEX_REGION\")\n",
    "vertexai.init(project=PROJECT_ID,location=REGION,credentials=credentials)"
   ]
  }
 ],
 "metadata": {
  "kernelspec": {
   "display_name": "vertexai_env",
   "language": "python",
   "name": "python3"
  },
  "language_info": {
   "codemirror_mode": {
    "name": "ipython",
    "version": 3
   },
   "file_extension": ".py",
   "mimetype": "text/x-python",
   "name": "python",
   "nbconvert_exporter": "python",
   "pygments_lexer": "ipython3",
   "version": "3.9.23"
  }
 },
 "nbformat": 4,
 "nbformat_minor": 5
}
