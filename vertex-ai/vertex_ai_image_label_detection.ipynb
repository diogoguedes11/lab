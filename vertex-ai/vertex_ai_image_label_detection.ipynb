{
 "cells": [
  {
   "cell_type": "markdown",
   "id": "34f9c72d",
   "metadata": {},
   "source": [
    "# Document Processing"
   ]
  },
  {
   "cell_type": "code",
   "execution_count": 1,
   "id": "3efcacd9",
   "metadata": {},
   "outputs": [
    {
     "name": "stderr",
     "output_type": "stream",
     "text": [
      "/home/diogo/miniconda3/envs/vertexai_env/lib/python3.9/site-packages/requests/__init__.py:86: RequestsDependencyWarning: Unable to find acceptable character detection dependency (chardet or charset_normalizer).\n",
      "  warnings.warn(\n"
     ]
    },
    {
     "name": "stdout",
     "output_type": "stream",
     "text": [
      "Vertex AI initialized\n"
     ]
    }
   ],
   "source": [
    "import vertexai_start\n"
   ]
  },
  {
   "cell_type": "code",
   "execution_count": 6,
   "id": "da41d341",
   "metadata": {},
   "outputs": [],
   "source": [
    "import cloudvision_api"
   ]
  },
  {
   "cell_type": "code",
   "execution_count": 7,
   "id": "d681a84e",
   "metadata": {},
   "outputs": [
    {
     "name": "stdout",
     "output_type": "stream",
     "text": [
      "label_annotations {\n",
      "  mid: \"/m/01yrx\"\n",
      "  description: \"Cat\"\n",
      "  score: 0.992053509\n",
      "  topicality: 0.779349387\n",
      "}\n",
      "label_annotations {\n",
      "  mid: \"/m/0307l\"\n",
      "  description: \"Felidae\"\n",
      "  score: 0.980165482\n",
      "  topicality: 0.0877495\n",
      "}\n",
      "label_annotations {\n",
      "  mid: \"/m/07k6w8\"\n",
      "  description: \"Felinae\"\n",
      "  score: 0.966214538\n",
      "  topicality: 0.0527255461\n",
      "}\n",
      "label_annotations {\n",
      "  mid: \"/m/01lrl\"\n",
      "  description: \"Carnivores\"\n",
      "  score: 0.957358122\n",
      "  topicality: 0.00386097678\n",
      "}\n",
      "label_annotations {\n",
      "  mid: \"/m/01k74n\"\n",
      "  description: \"Facial expression\"\n",
      "  score: 0.944949746\n",
      "  topicality: 0.00617450802\n",
      "}\n",
      "label_annotations {\n",
      "  mid: \"/m/0cnxs6x\"\n",
      "  description: \"Tooth\"\n",
      "  score: 0.934373319\n",
      "  topicality: 0.00806966517\n",
      "}\n",
      "label_annotations {\n",
      "  mid: \"/m/05mqq3\"\n",
      "  description: \"Snout\"\n",
      "  score: 0.90032959\n",
      "  topicality: 0.0128798028\n",
      "}\n",
      "label_annotations {\n",
      "  mid: \"/m/01l7qd\"\n",
      "  description: \"Whiskers\"\n",
      "  score: 0.860618949\n",
      "  topicality: 0.0510468185\n",
      "}\n",
      "label_annotations {\n",
      "  mid: \"/m/0fjkt\"\n",
      "  description: \"Tongue\"\n",
      "  score: 0.810910583\n",
      "  topicality: 0.00401813863\n",
      "}\n",
      "label_annotations {\n",
      "  mid: \"/m/025rxrz\"\n",
      "  description: \"Internet meme\"\n",
      "  score: 0.801999629\n",
      "  topicality: 0.619403064\n",
      "}\n",
      " source {\n",
      "  image_uri: \"gs://cloud-samples-data/vision/label/wakeupcat.jpg\"\n",
      "}\n",
      "\n",
      "Labels:\n",
      "Cat\n",
      "Felidae\n",
      "Felinae\n",
      "Carnivores\n",
      "Facial expression\n",
      "Tooth\n",
      "Snout\n",
      "Whiskers\n",
      "Tongue\n",
      "Internet meme\n"
     ]
    },
    {
     "data": {
      "text/plain": [
       "[mid: \"/m/01yrx\"\n",
       "description: \"Cat\"\n",
       "score: 0.992053509\n",
       "topicality: 0.779349387\n",
       ", mid: \"/m/0307l\"\n",
       "description: \"Felidae\"\n",
       "score: 0.980165482\n",
       "topicality: 0.0877495\n",
       ", mid: \"/m/07k6w8\"\n",
       "description: \"Felinae\"\n",
       "score: 0.966214538\n",
       "topicality: 0.0527255461\n",
       ", mid: \"/m/01lrl\"\n",
       "description: \"Carnivores\"\n",
       "score: 0.957358122\n",
       "topicality: 0.00386097678\n",
       ", mid: \"/m/01k74n\"\n",
       "description: \"Facial expression\"\n",
       "score: 0.944949746\n",
       "topicality: 0.00617450802\n",
       ", mid: \"/m/0cnxs6x\"\n",
       "description: \"Tooth\"\n",
       "score: 0.934373319\n",
       "topicality: 0.00806966517\n",
       ", mid: \"/m/05mqq3\"\n",
       "description: \"Snout\"\n",
       "score: 0.90032959\n",
       "topicality: 0.0128798028\n",
       ", mid: \"/m/01l7qd\"\n",
       "description: \"Whiskers\"\n",
       "score: 0.860618949\n",
       "topicality: 0.0510468185\n",
       ", mid: \"/m/0fjkt\"\n",
       "description: \"Tongue\"\n",
       "score: 0.810910583\n",
       "topicality: 0.00401813863\n",
       ", mid: \"/m/025rxrz\"\n",
       "description: \"Internet meme\"\n",
       "score: 0.801999629\n",
       "topicality: 0.619403064\n",
       "]"
      ]
     },
     "execution_count": 7,
     "metadata": {},
     "output_type": "execute_result"
    }
   ],
   "source": [
    "cloudvision_api.detect_labels(image_path=\"gs://cloud-samples-data/vision/label/wakeupcat.jpg\")"
   ]
  },
  {
   "cell_type": "code",
   "execution_count": null,
   "id": "dff344af",
   "metadata": {},
   "outputs": [],
   "source": []
  }
 ],
 "metadata": {
  "kernelspec": {
   "display_name": "vertexai_env",
   "language": "python",
   "name": "python3"
  },
  "language_info": {
   "codemirror_mode": {
    "name": "ipython",
    "version": 3
   },
   "file_extension": ".py",
   "mimetype": "text/x-python",
   "name": "python",
   "nbconvert_exporter": "python",
   "pygments_lexer": "ipython3",
   "version": "3.9.23"
  }
 },
 "nbformat": 4,
 "nbformat_minor": 5
}
