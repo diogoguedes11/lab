{
 "cells": [
  {
   "cell_type": "markdown",
   "id": "34f9c72d",
   "metadata": {},
   "source": [
    "# Document Processing"
   ]
  },
  {
   "cell_type": "code",
   "execution_count": 1,
   "id": "3efcacd9",
   "metadata": {},
   "outputs": [
    {
     "name": "stderr",
     "output_type": "stream",
     "text": [
      "/home/diogo/miniconda3/envs/vertexai_env/lib/python3.9/site-packages/requests/__init__.py:86: RequestsDependencyWarning: Unable to find acceptable character detection dependency (chardet or charset_normalizer).\n",
      "  warnings.warn(\n"
     ]
    },
    {
     "name": "stdout",
     "output_type": "stream",
     "text": [
      "Vertex AI initialized\n"
     ]
    }
   ],
   "source": [
    "import vertexai_start\n"
   ]
  },
  {
   "cell_type": "code",
   "execution_count": 2,
   "id": "da41d341",
   "metadata": {},
   "outputs": [],
   "source": [
    "import cloudvision_api"
   ]
  },
  {
   "cell_type": "code",
   "execution_count": 3,
   "id": "d681a84e",
   "metadata": {},
   "outputs": [
    {
     "name": "stdout",
     "output_type": "stream",
     "text": [
      "Local file\n",
      "Labels:\n",
      "Animation\n",
      "Animated cartoon\n",
      "Fictional character\n",
      "Cartoon\n",
      "CG artwork\n",
      "Hero\n",
      "Anime\n",
      "Video Game Software\n",
      "Adventure game\n",
      "Film\n"
     ]
    },
    {
     "data": {
      "text/plain": [
       "[mid: \"/m/0hcr\"\n",
       "description: \"Animation\"\n",
       "score: 0.896949172\n",
       "topicality: 0.0697975457\n",
       ", mid: \"/m/095bb\"\n",
       "description: \"Animated cartoon\"\n",
       "score: 0.872769535\n",
       "topicality: 0.0398154631\n",
       ", mid: \"/m/02h7lkt\"\n",
       "description: \"Fictional character\"\n",
       "score: 0.8694098\n",
       "topicality: 0.0142117403\n",
       ", mid: \"/m/0215n\"\n",
       "description: \"Cartoon\"\n",
       "score: 0.861568391\n",
       "topicality: 0.0393199474\n",
       ", mid: \"/m/02tx1k\"\n",
       "description: \"CG artwork\"\n",
       "score: 0.776344657\n",
       "topicality: 0.00237439573\n",
       ", mid: \"/m/03kll\"\n",
       "description: \"Hero\"\n",
       "score: 0.659600317\n",
       "topicality: 0.0765972733\n",
       ", mid: \"/m/0jxy\"\n",
       "description: \"Anime\"\n",
       "score: 0.55298996\n",
       "topicality: 0.106999017\n",
       ", mid: \"/m/0987_ns\"\n",
       "description: \"Video Game Software\"\n",
       "score: 0.520525098\n",
       "topicality: 0.000541879\n",
       ", mid: \"/m/0g65_\"\n",
       "description: \"Adventure game\"\n",
       "score: 0.511303663\n",
       "topicality: 0.105633758\n",
       ", mid: \"/m/02vxn\"\n",
       "description: \"Film\"\n",
       "score: 0.509857416\n",
       "topicality: 0.016286213\n",
       "]"
      ]
     },
     "execution_count": 3,
     "metadata": {},
     "output_type": "execute_result"
    }
   ],
   "source": [
    "cloudvision_api.detect_labels(image_path=\"./image.png\")"
   ]
  },
  {
   "cell_type": "code",
   "execution_count": null,
   "id": "dff344af",
   "metadata": {},
   "outputs": [],
   "source": []
  }
 ],
 "metadata": {
  "kernelspec": {
   "display_name": "vertexai_env",
   "language": "python",
   "name": "python3"
  },
  "language_info": {
   "codemirror_mode": {
    "name": "ipython",
    "version": 3
   },
   "file_extension": ".py",
   "mimetype": "text/x-python",
   "name": "python",
   "nbconvert_exporter": "python",
   "pygments_lexer": "ipython3",
   "version": "3.9.23"
  }
 },
 "nbformat": 4,
 "nbformat_minor": 5
}
