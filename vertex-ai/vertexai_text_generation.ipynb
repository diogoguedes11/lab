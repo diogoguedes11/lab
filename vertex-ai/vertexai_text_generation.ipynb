{
 "cells": [
  {
   "cell_type": "code",
   "execution_count": 2,
   "id": "09294228-5628-47e4-9dcb-657ce12c86c3",
   "metadata": {},
   "outputs": [],
   "source": [
    "# Init notebook\n",
    "from google.auth.transport.requests import Request\n",
    "from google.oauth2.service_account import Credentials\n",
    "import vertexai\n",
    "import os\n",
    "os.environ[\"GOOGLE_APPLICATION_CREDENTIALS\"] = \"/home/diogo/Repos/github.com/diogoguedes11/lab/vertex-ai/gcp-network-452116-7c78a1eff948.json\"\n",
    "api_key_path = os.getenv(\"GOOGLE_APPLICATION_CREDENTIALS\")\n",
    "if not api_key_path:\n",
    "     raise ValueError(\"Key not set.\")\n",
    "credentials = Credentials.from_service_account_file(api_key_path,scopes=['https://www.googleapis.com/auth/cloud-platform'])\n",
    "PROJECT_ID=os.getenv(\"VERTEXT_PROJECT_ID\")\n",
    "REGION=os.getenv(\"VERTEX_REGION\")\n",
    "vertexai.init(project=PROJECT_ID,location=REGION,credentials=credentials)"
   ]
  },
  {
   "cell_type": "code",
   "execution_count": 3,
   "id": "d925e5f5-49db-4470-b283-5691c15fb2e7",
   "metadata": {},
   "outputs": [],
   "source": [
    "from  vertexai.generative_models import GenerativeModel"
   ]
  },
  {
   "cell_type": "code",
   "execution_count": 4,
   "id": "ad57e512",
   "metadata": {},
   "outputs": [
    {
     "name": "stderr",
     "output_type": "stream",
     "text": [
      "/home/diogo/miniconda3/envs/vertexai_env/lib/python3.9/site-packages/vertexai/generative_models/_generative_models.py:433: UserWarning: This feature is deprecated as of June 24, 2025 and will be removed on June 24, 2026. For details, see https://cloud.google.com/vertex-ai/generative-ai/docs/deprecations/genai-vertexai-sdk.\n",
      "  warning_logs.show_deprecation_warning()\n"
     ]
    },
    {
     "data": {
      "text/plain": [
       "candidates {\n",
       "  content {\n",
       "    role: \"model\"\n",
       "    parts {\n",
       "      text: \"The sky appears blue due to a phenomenon called **Rayleigh scattering**. It\\'s a beautiful interplay between sunlight and the Earth\\'s atmosphere. Here\\'s a breakdown:\\n\\n**1. Sunlight is White Light:**\\n\\n* Sunlight, as we perceive it, is actually composed of a spectrum of colors, just like a rainbow. These colors have different wavelengths.\\n* **Violet and blue light** have shorter, smaller wavelengths.\\n* **Red and orange light** have longer, larger wavelengths.\\n\\n**2. The Earth\\'s Atmosphere:**\\n\\n* Our atmosphere is made up of tiny molecules, primarily nitrogen (about 78%) and oxygen (about 21%), along with smaller amounts of other gases and particles.\\n\\n**3. Rayleigh Scattering:**\\n\\n* When sunlight enters the Earth\\'s atmosphere, it interacts with these tiny molecules.\\n* **Rayleigh scattering states that shorter wavelengths of light are scattered more effectively by particles much smaller than the wavelength of the light.**\\n* Because blue and violet light have shorter wavelengths, they are scattered in all directions by the atmospheric molecules much more than longer wavelengths like red and orange.\\n\\n**4. Why We See Blue, Not Violet:**\\n\\n* While violet light is scattered even more than blue light, our eyes are more sensitive to blue light.\\n* Also, the sun emits slightly more blue light than violet light.\\n* So, the combination of these factors makes the sky appear blue to us.\\n\\n**In simple terms:**\\n\\nImagine shining a flashlight with a mix of colors through a room filled with tiny dust particles. The dust particles would bounce the smaller, more energetic colors (like blue) around more than the larger, less energetic colors (like red). The dust particles act like the atmospheric molecules, and the blue light gets scattered everywhere, making the entire sky appear blue.\\n\\n**What about other colors?**\\n\\n* **Red and orange light**, with their longer wavelengths, are not scattered as much. They tend to travel in a straighter line through the atmosphere. This is why we see red and orange hues during sunrise and sunset. At these times, sunlight has to travel through a much larger portion of the atmosphere, and most of the blue light has already been scattered away, leaving the longer wavelengths to reach our eyes.\\n* **Clouds appear white** because they are made of larger water droplets or ice crystals. These particles are much larger than the wavelengths of visible light, and they scatter all colors of light equally, resulting in a white appearance.\\n\\nSo, the next time you look up at the blue sky, remember it\\'s a result of tiny molecules scattering sunlight, with a preference for the shorter, bluer wavelengths!\"\n",
       "    }\n",
       "  }\n",
       "  finish_reason: STOP\n",
       "  avg_logprobs: -0.22576662490928107\n",
       "}\n",
       "usage_metadata {\n",
       "  prompt_token_count: 5\n",
       "  candidates_token_count: 549\n",
       "  total_token_count: 554\n",
       "  prompt_tokens_details {\n",
       "    modality: TEXT\n",
       "    token_count: 5\n",
       "  }\n",
       "  candidates_tokens_details {\n",
       "    modality: TEXT\n",
       "    token_count: 549\n",
       "  }\n",
       "}\n",
       "model_version: \"gemini-2.5-flash-lite\"\n",
       "create_time {\n",
       "  seconds: 1756732841\n",
       "  nanos: 481499000\n",
       "}\n",
       "response_id: \"qZ21aNuxHdTFnvgPiOejyQ0\""
      ]
     },
     "execution_count": 4,
     "metadata": {},
     "output_type": "execute_result"
    }
   ],
   "source": [
    "model = GenerativeModel(\"gemini-2.5-flash-lite\")\n",
    "model.generate_content(\"Why the sky is blue\")"
   ]
  },
  {
   "cell_type": "code",
   "execution_count": null,
   "id": "3c252b58",
   "metadata": {},
   "outputs": [],
   "source": []
  }
 ],
 "metadata": {
  "kernelspec": {
   "display_name": "vertexai_env",
   "language": "python",
   "name": "python3"
  },
  "language_info": {
   "codemirror_mode": {
    "name": "ipython",
    "version": 3
   },
   "file_extension": ".py",
   "mimetype": "text/x-python",
   "name": "python",
   "nbconvert_exporter": "python",
   "pygments_lexer": "ipython3",
   "version": "3.9.23"
  }
 },
 "nbformat": 4,
 "nbformat_minor": 5
}
