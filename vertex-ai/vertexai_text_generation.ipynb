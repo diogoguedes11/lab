{
 "cells": [
  {
   "cell_type": "code",
   "execution_count": null,
   "id": "09294228-5628-47e4-9dcb-657ce12c86c3",
   "metadata": {},
   "outputs": [],
   "source": [
    "# Init notebook\n",
    "from google.auth.transport.requests import Request\n",
    "from google.oauth2.service_account import Credentials\n",
    "import vertexai\n",
    "import os\n",
    "os.environ[\"GOOGLE_APPLICATION_CREDENTIALS\"] = \"/home/diogo/Repos/github.com/diogoguedes11/lab/vertex-ai/gcp-network-452116-7c78a1eff948.json\"\n",
    "api_key_path = os.getenv(\"GOOGLE_APPLICATION_CREDENTIALS\")\n",
    "if not api_key_path:\n",
    "     raise ValueError(\"Key not set.\")\n",
    "credentials = Credentials.from_service_account_file(api_key_path,scopes=['https://www.googleapis.com/auth/cloud-platform'])\n",
    "PROJECT_ID=os.getenv(\"VERTEXT_PROJECT_ID\")\n",
    "REGION=os.getenv(\"VERTEX_REGION\")\n",
    "vertexai.init(project=PROJECT_ID,location=REGION,credentials=credentials)"
   ]
  },
  {
   "cell_type": "code",
   "execution_count": 12,
   "id": "d925e5f5-49db-4470-b283-5691c15fb2e7",
   "metadata": {},
   "outputs": [
    {
     "name": "stderr",
     "output_type": "stream",
     "text": [
      "/home/diogo/miniconda3/envs/vertexai_env/lib/python3.9/site-packages/vertexai/generative_models/_generative_models.py:433: UserWarning: This feature is deprecated as of June 24, 2025 and will be removed on June 24, 2026. For details, see https://cloud.google.com/vertex-ai/generative-ai/docs/deprecations/genai-vertexai-sdk.\n",
      "  warning_logs.show_deprecation_warning()\n"
     ]
    }
   ],
   "source": [
    "from  vertexai.generative_models import GenerativeModel\n",
    "model = GenerativeModel(\"gemini-2.5-flash-lite\")"
   ]
  },
  {
   "cell_type": "code",
   "execution_count": 14,
   "id": "ad57e512",
   "metadata": {},
   "outputs": [
    {
     "data": {
      "text/plain": [
       "'Lisbon.'"
      ]
     },
     "execution_count": 14,
     "metadata": {},
     "output_type": "execute_result"
    }
   ],
   "source": [
    "from vertexai.generative_models import GenerationConfig\n",
    "generate_config = GenerationConfig(\n",
    "     temperature =0.9,\n",
    "     top_p=1.0,\n",
    "     top_k=32,\n",
    "     candidate_count=1,\n",
    "     max_output_tokens=8000\n",
    ")\n",
    "res = model.generate_content(\"What is the capital of Portugal? in a few words\",generation_config=generate_config) # we can also add streaming=True \n",
    "res.text"
   ]
  },
  {
   "cell_type": "code",
   "execution_count": 15,
   "id": "3c252b58",
   "metadata": {},
   "outputs": [],
   "source": [
    "chat = model.start_chat()"
   ]
  },
  {
   "cell_type": "code",
   "execution_count": 17,
   "id": "7fd9c21e",
   "metadata": {},
   "outputs": [
    {
     "data": {
      "text/plain": [
       "'Builds and deploys AI systems.'"
      ]
     },
     "execution_count": 17,
     "metadata": {},
     "output_type": "execute_result"
    }
   ],
   "source": [
    "res =  chat.send_message(\"In a few words explain what a AI engineer is\")\n",
    "res.text"
   ]
  },
  {
   "cell_type": "code",
   "execution_count": 18,
   "id": "a2c73e5b",
   "metadata": {},
   "outputs": [
    {
     "data": {
      "text/plain": [
       "[role: \"user\"\n",
       " parts {\n",
       "   text: \"In a few words explain what a AI engineer is\"\n",
       " },\n",
       " role: \"model\"\n",
       " parts {\n",
       "   text: \"Designs, builds, and deploys AI systems.\"\n",
       " },\n",
       " role: \"user\"\n",
       " parts {\n",
       "   text: \"In a few words explain what a AI engineer is\"\n",
       " },\n",
       " role: \"model\"\n",
       " parts {\n",
       "   text: \"Builds and deploys AI systems.\"\n",
       " }]"
      ]
     },
     "execution_count": 18,
     "metadata": {},
     "output_type": "execute_result"
    }
   ],
   "source": [
    "chat.history"
   ]
  },
  {
   "cell_type": "code",
   "execution_count": null,
   "id": "20b32e86",
   "metadata": {},
   "outputs": [],
   "source": []
  }
 ],
 "metadata": {
  "kernelspec": {
   "display_name": "vertexai_env",
   "language": "python",
   "name": "python3"
  },
  "language_info": {
   "codemirror_mode": {
    "name": "ipython",
    "version": 3
   },
   "file_extension": ".py",
   "mimetype": "text/x-python",
   "name": "python",
   "nbconvert_exporter": "python",
   "pygments_lexer": "ipython3",
   "version": "3.9.23"
  }
 },
 "nbformat": 4,
 "nbformat_minor": 5
}
