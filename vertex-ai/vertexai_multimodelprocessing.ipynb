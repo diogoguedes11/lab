{
 "cells": [
  {
   "cell_type": "markdown",
   "id": "033b278b",
   "metadata": {},
   "source": [
    "# Multi Model Processing\n",
    "\n",
    "Is the ability for the model to understand, analyse and generate information across multiple modalities, such as text, images, and audio."
   ]
  },
  {
   "cell_type": "code",
   "execution_count": 1,
   "id": "8a8c7b2c",
   "metadata": {},
   "outputs": [
    {
     "name": "stderr",
     "output_type": "stream",
     "text": [
      "/home/diogo/miniconda3/envs/vertexai_env/lib/python3.9/site-packages/requests/__init__.py:86: RequestsDependencyWarning: Unable to find acceptable character detection dependency (chardet or charset_normalizer).\n",
      "  warnings.warn(\n"
     ]
    },
    {
     "name": "stdout",
     "output_type": "stream",
     "text": [
      "Vertex AI initialized\n"
     ]
    }
   ],
   "source": [
    "import vertexai_start"
   ]
  },
  {
   "cell_type": "markdown",
   "id": "f41df7a3",
   "metadata": {},
   "source": [
    "# Image processing"
   ]
  },
  {
   "cell_type": "code",
   "execution_count": 6,
   "id": "2c930e04",
   "metadata": {},
   "outputs": [],
   "source": [
    "from vertexai.generative_models import GenerativeModel\n",
    "from vertexai.generative_models import Part"
   ]
  },
  {
   "cell_type": "code",
   "execution_count": 7,
   "id": "b5aa4299",
   "metadata": {},
   "outputs": [],
   "source": [
    "url = \"https://storage.googleapis.com/cloud-samples-data/generative-ai/image/fruit.png\"\n",
    "image_file = Part.from_uri(url,mime_type=\"image/png\")"
   ]
  },
  {
   "cell_type": "code",
   "execution_count": null,
   "id": "be70332f",
   "metadata": {},
   "outputs": [],
   "source": [
    "model = GenerativeModel(\"gemini-2.5-flash\")\n",
    "prompt = \"Describe the image in detail and explain why these fruits are beneficial for health.\"\n",
    "model.generate_content([image_file, prompt])"
   ]
  },
  {
   "cell_type": "code",
   "execution_count": null,
   "id": "1f5c6632",
   "metadata": {},
   "outputs": [],
   "source": []
  },
  {
   "cell_type": "code",
   "execution_count": null,
   "id": "71bce19b",
   "metadata": {},
   "outputs": [],
   "source": []
  }
 ],
 "metadata": {
  "kernelspec": {
   "display_name": "vertexai_env",
   "language": "python",
   "name": "python3"
  },
  "language_info": {
   "codemirror_mode": {
    "name": "ipython",
    "version": 3
   },
   "file_extension": ".py",
   "mimetype": "text/x-python",
   "name": "python",
   "nbconvert_exporter": "python",
   "pygments_lexer": "ipython3",
   "version": "3.9.23"
  }
 },
 "nbformat": 4,
 "nbformat_minor": 5
}
