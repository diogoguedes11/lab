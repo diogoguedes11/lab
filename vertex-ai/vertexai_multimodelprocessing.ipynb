{
 "cells": [],
 "metadata": {
  "kernelspec": {
   "display_name": "vertexai_env",
   "language": "python",
   "name": "python3"
  },
  "language_info": {
   "name": "python",
   "version": "3.9.23"
  }
 },
 "nbformat": 4,
 "nbformat_minor": 5
}
