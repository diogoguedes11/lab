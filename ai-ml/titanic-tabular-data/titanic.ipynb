{
 "cells": [
  {
   "cell_type": "code",
   "execution_count": 2,
   "id": "29afaec6",
   "metadata": {},
   "outputs": [],
   "source": [
    "# pip install xgboost scikit-learn pandas seaborn tensorflow\n",
    "\n",
    "import seaborn as sns\n",
    "import pandas as pd\n",
    "from sklearn.model_selection import train_test_split\n",
    "from sklearn.preprocessing import LabelEncoder, StandardScaler\n",
    "from sklearn.metrics import accuracy_score\n",
    "import xgboost as xgb\n",
    "import tensorflow as tf\n",
    "from tensorflow.keras.models import Sequential\n",
    "from tensorflow.keras.layers import Dense, SimpleRNN"
   ]
  },
  {
   "cell_type": "code",
   "execution_count": 3,
   "id": "1855cac8",
   "metadata": {},
   "outputs": [],
   "source": [
    "titanic = sns.load_dataset('titanic').dropna(\n",
    "    subset=['age', 'sex', 'class', 'survived'])\n",
    "# features que usamos para tentar prever algo\n",
    "X = titanic[['age', \"sex\", \"class\"]]\n",
    "y = titanic['survived']  # o que queremos prever"
   ]
  },
  {
   "cell_type": "code",
   "execution_count": 4,
   "id": "503167e0",
   "metadata": {},
   "outputs": [],
   "source": [
    "# Pre processing\n",
    "X = pd.get_dummies(X, drop_first=True)\n",
    "X_train, X_test, y_train, y_test = train_test_split(\n",
    "    X, y, test_size=0.2, random_state=42)"
   ]
  },
  {
   "cell_type": "code",
   "execution_count": 5,
   "id": "2504e403",
   "metadata": {},
   "outputs": [
    {
     "name": "stderr",
     "output_type": "stream",
     "text": [
      "/home/diogo/miniconda3/envs/vertexai_env/lib/python3.9/site-packages/xgboost/core.py:158: UserWarning: [14:44:34] WARNING: /workspace/src/learner.cc:740: \n",
      "Parameters: { \"use_label_encoder\" } are not used.\n",
      "\n",
      "  warnings.warn(smsg, UserWarning)\n"
     ]
    },
    {
     "name": "stdout",
     "output_type": "stream",
     "text": [
      "XGBoost accuracy: 0.7902097902097902\n"
     ]
    }
   ],
   "source": [
    "# ======================\n",
    "# 🔹 Model 1: XGBoost\n",
    "# ======================\n",
    "model_xgb = xgb.XGBClassifier(use_label_encoder=False, eval_metric='logloss')\n",
    "model_xgb.fit(X_train, y_train)\n",
    "y_pred = model_xgb.predict(X_test)\n",
    "print(\"XGBoost accuracy:\", accuracy_score(y_test, y_pred))"
   ]
  },
  {
   "cell_type": "code",
   "execution_count": 6,
   "id": "12bff570",
   "metadata": {},
   "outputs": [],
   "source": [
    "# ======================\n",
    "# 🔹 Model 2: RNN\n",
    "# ======================\n",
    "scaler = StandardScaler()\n",
    "X_train_scaled = scaler.fit_transform(X_train)\n",
    "X_test_scaled = scaler.transform(X_test)\n",
    "# RNN the data must be in 3D shape (samples, timesteps, features)\n",
    "X_train_rnn = X_train_scaled.reshape((X_train_scaled.shape[0], 1, X_train_scaled.shape[1]))\n",
    "X_test_rnn = X_test_scaled.reshape((X_test_scaled.shape[0], 1, X_test_scaled.shape[1]))\n"
   ]
  },
  {
   "cell_type": "code",
   "execution_count": 7,
   "id": "32750d93",
   "metadata": {},
   "outputs": [
    {
     "name": "stdout",
     "output_type": "stream",
     "text": [
      "Acurácia RNN: 0.7412587404251099\n"
     ]
    }
   ],
   "source": [
    "\n",
    "model_rnn = Sequential([\n",
    "    SimpleRNN(16, activation=\"tanh\", input_shape=(1, X_train.shape[1])),\n",
    "    Dense(1, activation=\"sigmoid\")\n",
    "])\n",
    "\n",
    "model_rnn.compile(optimizer=\"adam\", loss=\"binary_crossentropy\", metrics=[\"accuracy\"])\n",
    "model_rnn.fit(X_train_rnn, y_train, epochs=50, batch_size=8, verbose=0)\n",
    "\n",
    "# Avaliar RNN\n",
    "loss, acc_rnn = model_rnn.evaluate(X_test_rnn, y_test, verbose=0)\n",
    "print(\"Acurácia RNN:\", acc_rnn)"
   ]
  }
 ],
 "metadata": {
  "kernelspec": {
   "display_name": "vertexai_env",
   "language": "python",
   "name": "python3"
  },
  "language_info": {
   "codemirror_mode": {
    "name": "ipython",
    "version": 3
   },
   "file_extension": ".py",
   "mimetype": "text/x-python",
   "name": "python",
   "nbconvert_exporter": "python",
   "pygments_lexer": "ipython3",
   "version": "3.9.23"
  }
 },
 "nbformat": 4,
 "nbformat_minor": 5
}
