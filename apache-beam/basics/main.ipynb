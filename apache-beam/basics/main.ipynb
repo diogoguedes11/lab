{
 "cells": [
  {
   "cell_type": "markdown",
   "id": "aa5dfe19",
   "metadata": {},
   "source": [
    "## Very important to know:\n",
    "- Apache beam is a programming model for processing large datasets , transforming them and output it to the desired runners (Spark, Apache Flink or Google Dataflow), which are the ones we want to execute our job on.\n",
    "\n",
    "\n",
    "\n",
    "\n",
    "\n",
    "\n",
    "\n",
    "\n",
    "\n",
    "\n",
    "\n",
    "\n",
    "\n",
    "\n",
    "\n",
    "\n"
   ]
  },
  {
   "cell_type": "markdown",
   "id": "cfdbe26d",
   "metadata": {},
   "source": [
    "# Structure of Beam code:\n",
    "- Create a pipeline.\n",
    "- Input the data.\n",
    "- Transform the data.\n",
    "- Display data"
   ]
  },
  {
   "cell_type": "markdown",
   "id": "8fa5d38d",
   "metadata": {},
   "source": [
    "# Apache Beam pipeline"
   ]
  },
  {
   "cell_type": "code",
   "execution_count": 2,
   "id": "f3fcfeb9",
   "metadata": {},
   "outputs": [
    {
     "name": "stderr",
     "output_type": "stream",
     "text": [
      "WARNING:apache_beam.runners.interactive.interactive_environment:Dependencies required for Interactive Beam PCollection visualization are not available, please use: `pip install apache-beam[interactive]` to install necessary dependencies to enable all data visualization features.\n"
     ]
    },
    {
     "data": {
      "application/javascript": "\n        if (typeof window.interactive_beam_jquery == 'undefined') {\n          var jqueryScript = document.createElement('script');\n          jqueryScript.src = 'https://code.jquery.com/jquery-3.4.1.slim.min.js';\n          jqueryScript.type = 'text/javascript';\n          jqueryScript.onload = function() {\n            var datatableScript = document.createElement('script');\n            datatableScript.src = 'https://cdn.datatables.net/1.10.20/js/jquery.dataTables.min.js';\n            datatableScript.type = 'text/javascript';\n            datatableScript.onload = function() {\n              window.interactive_beam_jquery = jQuery.noConflict(true);\n              window.interactive_beam_jquery(document).ready(function($){\n                \n              });\n            }\n            document.head.appendChild(datatableScript);\n          };\n          document.head.appendChild(jqueryScript);\n        } else {\n          window.interactive_beam_jquery(document).ready(function($){\n            \n          });\n        }"
     },
     "metadata": {},
     "output_type": "display_data"
    },
    {
     "name": "stdout",
     "output_type": "stream",
     "text": [
      "1\n",
      "125\n",
      "512\n"
     ]
    },
    {
     "data": {
      "text/plain": [
       "<apache_beam.runners.portability.fn_api_runner.fn_runner.RunnerResult at 0x75d978ab9c60>"
      ]
     },
     "execution_count": 2,
     "metadata": {},
     "output_type": "execute_result"
    }
   ],
   "source": [
    "import apache_beam as beam\n",
    "from apache_beam import Create, Map\n",
    "p1 = beam.Pipeline()\n",
    "find_cubes = ( p1 \n",
    "         | \"Create Element\" >> Create([1,5,8]) # Step 1: Create a PCollection with numbers from 0 to 9\n",
    "         | \"Find Cubes\" >> Map(lambda x: x ** 3) # Step 2: Map each number to its cube\n",
    "           | \"Print Result\" >> Map(print) # Step 3: Print each cube\n",
    "         ) \n",
    "# We can also add another data types like\n",
    "# beam.Create({'foo':'bar'})\n",
    "# beam.Create(range(10))\n",
    "p1.run()"
   ]
  },
  {
   "cell_type": "markdown",
   "id": "f4afbe78",
   "metadata": {},
   "source": [
    "# Flatten\n",
    "\n",
    "Flatten is a transformation that combines multiple PCollections of the same type into a single PCollection."
   ]
  },
  {
   "cell_type": "code",
   "execution_count": 3,
   "id": "a7466de2",
   "metadata": {},
   "outputs": [
    {
     "name": "stdout",
     "output_type": "stream",
     "text": [
      "1\n",
      "3\n",
      "5\n",
      "7\n",
      "9\n",
      "8\n",
      "2\n",
      "4\n",
      "6\n"
     ]
    },
    {
     "data": {
      "text/plain": [
       "<apache_beam.runners.portability.fn_api_runner.fn_runner.RunnerResult at 0x75d978896320>"
      ]
     },
     "execution_count": 3,
     "metadata": {},
     "output_type": "execute_result"
    }
   ],
   "source": [
    "import apache_beam as beam\n",
    "from apache_beam import Create, Map\n",
    "even = {2,4,6,8}\n",
    "odd = {1,3,5,7,9}\n",
    "p1 = beam.Pipeline()\n",
    "even_p1 = p1 | \"Even Numb:\" >> beam.Create(even)\n",
    "odd_p1 = p1 | \"Odd Numb:\" >> beam.Create(odd)\n",
    "flat_out = (even_p1,odd_p1) | beam.Flatten() | beam.Map(print)\n",
    "p1.run() \n"
   ]
  },
  {
   "cell_type": "markdown",
   "id": "845f9932",
   "metadata": {},
   "source": [
    "# Map/FlatMap\n",
    "Each Map/Flatmap Returns a collection of N elements.\n",
    "\n",
    "Map Output: [[\"foo\",\"bar\"],[\"hello\",\"world\"]] -> Map(str.split) a nested flat list\n",
    "FlatMap: [\"foo\",\"bar\",\"hello\",\"world\"] -> removes the nested structure, no fluff.\n"
   ]
  },
  {
   "cell_type": "code",
   "execution_count": 13,
   "id": "062adbf3",
   "metadata": {},
   "outputs": [
    {
     "name": "stdout",
     "output_type": "stream",
     "text": [
      "foo\n",
      "bar\n",
      "hello\n",
      "world\n"
     ]
    },
    {
     "data": {
      "text/plain": [
       "<apache_beam.runners.portability.fn_api_runner.fn_runner.RunnerResult at 0x75d976e29ab0>"
      ]
     },
     "execution_count": 13,
     "metadata": {},
     "output_type": "execute_result"
    }
   ],
   "source": [
    "import apache_beam as beam\n",
    "from apache_beam import Create, Map, FlatMap\n",
    "\n",
    "p1 = beam.Pipeline()\n",
    "\n",
    "\n",
    "flatten_elements = (p1 | \n",
    "            \"Create Element\" >> Create([\"foo bar\", \"hello world\"]) \n",
    "            | \"Find Cube\" >> FlatMap(str.split)\n",
    "            | \"Print\" >> Map(print)\n",
    "            )\n",
    "\n",
    "p1.run() "
   ]
  },
  {
   "cell_type": "markdown",
   "id": "6015fb8f",
   "metadata": {},
   "source": [
    "# Filter"
   ]
  },
  {
   "cell_type": "code",
   "execution_count": 14,
   "id": "911a63e4",
   "metadata": {},
   "outputs": [
    {
     "name": "stdout",
     "output_type": "stream",
     "text": [
      "0\n",
      "2\n",
      "4\n",
      "6\n",
      "8\n",
      "10\n",
      "12\n",
      "14\n",
      "16\n",
      "18\n"
     ]
    },
    {
     "data": {
      "text/plain": [
       "<apache_beam.runners.portability.fn_api_runner.fn_runner.RunnerResult at 0x75d976e2b2b0>"
      ]
     },
     "execution_count": 14,
     "metadata": {},
     "output_type": "execute_result"
    }
   ],
   "source": [
    "import apache_beam as beam\n",
    "from apache_beam import Create, Map, Filter\n",
    "\n",
    "p1 = beam.Pipeline()\n",
    "\n",
    "filter_even = (p1 | \n",
    "            \"Create Element\" >> Create(range(20)) \n",
    "            | \"Find Even numbers\" >> Filter(lambda x: x % 2 == 0)\n",
    "            | \"Print\" >> Map(print)\n",
    "            )\n",
    "\n",
    "p1.run() "
   ]
  },
  {
   "cell_type": "markdown",
   "id": "e8b02568",
   "metadata": {},
   "source": [
    "# Keys, values, string"
   ]
  },
  {
   "cell_type": "code",
   "execution_count": 15,
   "id": "0ed6665b",
   "metadata": {},
   "outputs": [
    {
     "name": "stdout",
     "output_type": "stream",
     "text": [
      "foo\n",
      "hello\n"
     ]
    },
    {
     "data": {
      "text/plain": [
       "<apache_beam.runners.portability.fn_api_runner.fn_runner.RunnerResult at 0x75d976e2ab00>"
      ]
     },
     "execution_count": 15,
     "metadata": {},
     "output_type": "execute_result"
    }
   ],
   "source": [
    "import apache_beam as beam\n",
    "from apache_beam import Create, Map, Filter\n",
    "\n",
    "p1 = beam.Pipeline()\n",
    "\n",
    "dict_elements = (p1 | \n",
    "            \"Create Element\" >> Create({\"foo\": \"bar\",\"hello\": \"world\"}) \n",
    "            | \"All Keys\" >> beam.Keys()\n",
    "            | \"String tuple\" >> beam.ToString.Element()\n",
    "            | \"Print\" >> Map(print)\n",
    "            )\n",
    "\n",
    "p1.run() "
   ]
  },
  {
   "cell_type": "markdown",
   "id": "92b14252",
   "metadata": {},
   "source": [
    "# Kvswap\n",
    "\n",
    "You give a key-value pair and it returns a value-key pair swapped."
   ]
  },
  {
   "cell_type": "code",
   "execution_count": 16,
   "id": "f8ab4ff4",
   "metadata": {},
   "outputs": [
    {
     "name": "stdout",
     "output_type": "stream",
     "text": [
      "('bar', 'foo')\n",
      "('world', 'hello')\n"
     ]
    },
    {
     "data": {
      "text/plain": [
       "<apache_beam.runners.portability.fn_api_runner.fn_runner.RunnerResult at 0x75d976ec5630>"
      ]
     },
     "execution_count": 16,
     "metadata": {},
     "output_type": "execute_result"
    }
   ],
   "source": [
    "import apache_beam as beam\n",
    "from apache_beam import Create, Map, Filter, KvSwap, FlatMap\n",
    "\n",
    "p1 = beam.Pipeline()\n",
    "\n",
    "swap_elements = (p1 | \n",
    "            \"Create Element\" >> Create({\"foo\": \"bar\",\"hello\": \"world\"}) \n",
    "            | \"Swap elements\" >> KvSwap()\n",
    "           #(Optional) | \"Flatten\" >> FlatMap(lambda x: x)  # Flatten the key-value pairs into a single list\n",
    "            | \"Print\" >> Map(print)\n",
    "            )\n",
    "\n",
    "p1.run() "
   ]
  },
  {
   "cell_type": "markdown",
   "id": "162426f9",
   "metadata": {},
   "source": [
    "# Partition\n",
    "\n",
    "Partition is a transformation that splits a PCollection into multiple PCollections based on a partitioning function."
   ]
  },
  {
   "cell_type": "markdown",
   "id": "38bd144b",
   "metadata": {},
   "source": [
    "# Aggregation"
   ]
  },
  {
   "cell_type": "code",
   "execution_count": 32,
   "id": "01484d09",
   "metadata": {},
   "outputs": [
    {
     "name": "stdout",
     "output_type": "stream",
     "text": [
      "('foo', 1)\n",
      "('hello', 1)\n"
     ]
    },
    {
     "data": {
      "text/plain": [
       "<apache_beam.runners.portability.fn_api_runner.fn_runner.RunnerResult at 0x75d976caa530>"
      ]
     },
     "execution_count": 32,
     "metadata": {},
     "output_type": "execute_result"
    }
   ],
   "source": [
    "import apache_beam as beam\n",
    "from apache_beam import Create, Map, combiners\n",
    "\n",
    "p1 = beam.Pipeline()\n",
    "\n",
    "count_elements = (p1 | \n",
    "            \"Create Element\" >> Create({\"foo\": \"bar\",\"hello\": \"world\"}) \n",
    "            | \"Count\" >> combiners.Count.PerKey()  # Count occurrences of each key\n",
    "            | \"Print\" >> Map(print)\n",
    "            )\n",
    "\n",
    "p1.run() "
   ]
  },
  {
   "cell_type": "code",
   "execution_count": null,
   "id": "603e5b8c",
   "metadata": {},
   "outputs": [
    {
     "name": "stdout",
     "output_type": "stream",
     "text": [
      "('one+one', 2)\n",
      "('one+three', 4)\n"
     ]
    },
    {
     "data": {
      "text/plain": [
       "<apache_beam.runners.portability.fn_api_runner.fn_runner.RunnerResult at 0x75d976a1b730>"
      ]
     },
     "execution_count": 34,
     "metadata": {},
     "output_type": "execute_result"
    }
   ],
   "source": [
    "import apache_beam as beam\n",
    "from apache_beam import Create, Map, combiners, CombineValues\n",
    "\n",
    "p1 = beam.Pipeline()\n",
    "combine_values = (p1 | \n",
    "            \"Create Element\" >> Create({\"one+one\": [1,1],\"one+three\": [1,3]}) \n",
    "            | \"Count\" >> CombineValues(lambda x: sum(x))\n",
    "            | \"Print\" >> Map(print)\n",
    "            )\n",
    "\n",
    "p1.run() "
   ]
  },
  {
   "cell_type": "code",
   "execution_count": null,
   "id": "4a8b4ab4",
   "metadata": {},
   "outputs": [],
   "source": []
  }
 ],
 "metadata": {
  "kernelspec": {
   "display_name": ".venv",
   "language": "python",
   "name": "python3"
  },
  "language_info": {
   "codemirror_mode": {
    "name": "ipython",
    "version": 3
   },
   "file_extension": ".py",
   "mimetype": "text/x-python",
   "name": "python",
   "nbconvert_exporter": "python",
   "pygments_lexer": "ipython3",
   "version": "3.10.12"
  }
 },
 "nbformat": 4,
 "nbformat_minor": 5
}
