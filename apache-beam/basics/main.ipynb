{
 "cells": [
  {
   "cell_type": "code",
   "execution_count": 50,
   "id": "67399839",
   "metadata": {},
   "outputs": [],
   "source": [
    "import apache_beam as beam\n",
    "import apache_beam.runners.interactive.interactive_beam as ibm"
   ]
  },
  {
   "cell_type": "markdown",
   "id": "aa5dfe19",
   "metadata": {},
   "source": [
    "## Very important to know:\n",
    "- Apache beam is a programming model for processing large datasets , transforming them and output it to the desired runners (Spark, Apache Flink or Google Dataflow), which are the ones we want to execute our job on.\n",
    "\n",
    "\n",
    "\n",
    "\n",
    "\n",
    "\n",
    "\n",
    "\n",
    "\n",
    "\n",
    "\n",
    "\n",
    "\n",
    "\n",
    "\n",
    "\n"
   ]
  },
  {
   "cell_type": "markdown",
   "id": "cfdbe26d",
   "metadata": {},
   "source": [
    "# Structure of Beam code:\n",
    "- Create a pipeline.\n",
    "- Input the data.\n",
    "- Transform the data.\n",
    "- Display data"
   ]
  },
  {
   "cell_type": "markdown",
   "id": "8fa5d38d",
   "metadata": {},
   "source": [
    "# Apache Beam pipeline"
   ]
  },
  {
   "cell_type": "code",
   "execution_count": 51,
   "id": "f3fcfeb9",
   "metadata": {},
   "outputs": [
    {
     "data": {
      "text/plain": [
       "apache_beam.pipeline.Pipeline"
      ]
     },
     "execution_count": 51,
     "metadata": {},
     "output_type": "execute_result"
    }
   ],
   "source": [
    "p1 = beam.Pipeline()\n",
    "type(p1)"
   ]
  },
  {
   "cell_type": "code",
   "execution_count": 52,
   "id": "842bd955",
   "metadata": {},
   "outputs": [],
   "source": [
    "find_cubes = ( p1 \n",
    "         | \"Create Element\" >> beam.Create(range(10)) # Step 1: Create a PCollection with numbers from 0 to 9\n",
    "         | \"Find Cubes\" >> beam.Map(lambda x: x ** 3) # Step 2: Map each number to its cube\n",
    "           | \"Print Result\" >> beam.Map(print) # Step 3: Print each cube\n",
    "         ) "
   ]
  },
  {
   "cell_type": "code",
   "execution_count": 53,
   "id": "e49a6f66",
   "metadata": {},
   "outputs": [
    {
     "data": {
      "text/plain": [
       "<PCollection[[52]: Print Result.None] at 0x7f1877c9ad20>"
      ]
     },
     "execution_count": 53,
     "metadata": {},
     "output_type": "execute_result"
    }
   ],
   "source": [
    "find_cubes"
   ]
  },
  {
   "cell_type": "code",
   "execution_count": 54,
   "id": "4fe17cda",
   "metadata": {},
   "outputs": [
    {
     "name": "stdout",
     "output_type": "stream",
     "text": [
      "0\n",
      "1\n",
      "8\n",
      "27\n",
      "64\n",
      "125\n",
      "216\n",
      "343\n",
      "512\n",
      "729\n"
     ]
    },
    {
     "data": {
      "text/plain": [
       "<apache_beam.runners.portability.fn_api_runner.fn_runner.RunnerResult at 0x7f1877a89760>"
      ]
     },
     "execution_count": 54,
     "metadata": {},
     "output_type": "execute_result"
    }
   ],
   "source": [
    "p1.run() # Execute the pipeline"
   ]
  }
 ],
 "metadata": {
  "kernelspec": {
   "display_name": "beam",
   "language": "python",
   "name": "python3"
  },
  "language_info": {
   "codemirror_mode": {
    "name": "ipython",
    "version": 3
   },
   "file_extension": ".py",
   "mimetype": "text/x-python",
   "name": "python",
   "nbconvert_exporter": "python",
   "pygments_lexer": "ipython3",
   "version": "3.12.3"
  }
 },
 "nbformat": 4,
 "nbformat_minor": 5
}
