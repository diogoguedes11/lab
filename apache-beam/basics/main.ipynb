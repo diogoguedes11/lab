{
 "cells": [
  {
   "cell_type": "code",
   "execution_count": 25,
   "id": "67399839",
   "metadata": {},
   "outputs": [],
   "source": [
    "import apache_beam as beam\n",
    "import apache_beam.runners.interactive.interactive_runner as ib\n",
    "import apache_beam.runners.interactive.interactive_beam as ibm"
   ]
  },
  {
   "cell_type": "markdown",
   "id": "aa5dfe19",
   "metadata": {},
   "source": [
    "## Very important to know:\n",
    "- Apache beam is a programming model for processing large datasets , transforming them and output it to the desired runners (Spark, Apache Flink or Google Dataflow), which are the ones we want to execute our job on.\n",
    "\n",
    "\n",
    "\n",
    "\n",
    "\n",
    "\n",
    "\n",
    "\n",
    "\n",
    "\n",
    "\n",
    "\n",
    "\n",
    "\n",
    "\n",
    "\n"
   ]
  },
  {
   "cell_type": "markdown",
   "id": "cfdbe26d",
   "metadata": {},
   "source": [
    "# Structure of Beam code:\n",
    "- Create a pipeline.\n",
    "- Input the data.\n",
    "- Transform the data.\n",
    "- Display data"
   ]
  },
  {
   "cell_type": "markdown",
   "id": "8fa5d38d",
   "metadata": {},
   "source": [
    "# Apache Beam pipeline"
   ]
  },
  {
   "cell_type": "code",
   "execution_count": 22,
   "id": "f3fcfeb9",
   "metadata": {},
   "outputs": [
    {
     "data": {
      "text/plain": [
       "apache_beam.pipeline.Pipeline"
      ]
     },
     "execution_count": 22,
     "metadata": {},
     "output_type": "execute_result"
    }
   ],
   "source": [
    "p1 = beam.Pipeline(runner=ib.InteractiveRunner())\n",
    "type(p1)"
   ]
  },
  {
   "cell_type": "code",
   "execution_count": 7,
   "id": "842bd955",
   "metadata": {},
   "outputs": [],
   "source": [
    "cubes = ( p1 \n",
    "         | \"Create Element\" >> beam.Create(range(10)) # Step 1: Create a PCollection with numbers from 0 to 9\n",
    "         | \"Find Cubes\" >> beam.Map(lambda x: x ** 3)) # Step 2: Map each number to its cube"
   ]
  },
  {
   "cell_type": "code",
   "execution_count": 8,
   "id": "e49a6f66",
   "metadata": {},
   "outputs": [
    {
     "data": {
      "text/plain": [
       "<PCollection[[7]: Find Cubes.None] at 0x7f187d0dd6d0>"
      ]
     },
     "execution_count": 8,
     "metadata": {},
     "output_type": "execute_result"
    }
   ],
   "source": [
    "cubes"
   ]
  },
  {
   "cell_type": "code",
   "execution_count": 9,
   "id": "4fe17cda",
   "metadata": {},
   "outputs": [
    {
     "data": {
      "text/plain": [
       "<apache_beam.runners.interactive.interactive_runner.PipelineResult at 0x7f187d06b8c0>"
      ]
     },
     "execution_count": 9,
     "metadata": {},
     "output_type": "execute_result"
    }
   ],
   "source": [
    "p1.run() # Execute the pipeline"
   ]
  },
  {
   "cell_type": "code",
   "execution_count": 27,
   "id": "f4e48dd1",
   "metadata": {},
   "outputs": [
    {
     "data": {
      "text/html": [
       "\n",
       "            <link rel=\"stylesheet\" href=\"https://stackpath.bootstrapcdn.com/bootstrap/4.4.1/css/bootstrap.min.css\" integrity=\"sha384-Vkoo8x4CGsO3+Hhxv8T/Q5PaXtkKtu6ug5TOeNV6gBiFeWPGFN9MuhOf23Q9Ifjh\" crossorigin=\"anonymous\">\n",
       "            <div id=\"progress_indicator_fe39dc05f482b0c58ce3aff6d255959e\">\n",
       "              <div class=\"spinner-border text-info\" role=\"status\"></div>\n",
       "              <span class=\"text-info\">Processing... show_graph</span>\n",
       "            </div>\n",
       "            "
      ],
      "text/plain": [
       "<IPython.core.display.HTML object>"
      ]
     },
     "metadata": {},
     "output_type": "display_data"
    },
    {
     "data": {
      "text/html": [
       "digraph G {\n",
       "node [color=blue, fontcolor=blue, shape=box];\n",
       "}\n"
      ],
      "text/plain": [
       "<IPython.core.display.HTML object>"
      ]
     },
     "metadata": {},
     "output_type": "display_data"
    },
    {
     "data": {
      "application/javascript": "\n        if (typeof window.interactive_beam_jquery == 'undefined') {\n          var jqueryScript = document.createElement('script');\n          jqueryScript.src = 'https://code.jquery.com/jquery-3.4.1.slim.min.js';\n          jqueryScript.type = 'text/javascript';\n          jqueryScript.onload = function() {\n            var datatableScript = document.createElement('script');\n            datatableScript.src = 'https://cdn.datatables.net/1.10.20/js/jquery.dataTables.min.js';\n            datatableScript.type = 'text/javascript';\n            datatableScript.onload = function() {\n              window.interactive_beam_jquery = jQuery.noConflict(true);\n              window.interactive_beam_jquery(document).ready(function($){\n                \n            $(\"#progress_indicator_fe39dc05f482b0c58ce3aff6d255959e\").remove();\n              });\n            }\n            document.head.appendChild(datatableScript);\n          };\n          document.head.appendChild(jqueryScript);\n        } else {\n          window.interactive_beam_jquery(document).ready(function($){\n            \n            $(\"#progress_indicator_fe39dc05f482b0c58ce3aff6d255959e\").remove();\n          });\n        }"
     },
     "metadata": {},
     "output_type": "display_data"
    }
   ],
   "source": [
    "ibm.show_graph(p1) # Display the graph of the pipeline"
   ]
  },
  {
   "cell_type": "code",
   "execution_count": null,
   "id": "8971eca5",
   "metadata": {},
   "outputs": [],
   "source": []
  }
 ],
 "metadata": {
  "kernelspec": {
   "display_name": "beam",
   "language": "python",
   "name": "python3"
  },
  "language_info": {
   "codemirror_mode": {
    "name": "ipython",
    "version": 3
   },
   "file_extension": ".py",
   "mimetype": "text/x-python",
   "name": "python",
   "nbconvert_exporter": "python",
   "pygments_lexer": "ipython3",
   "version": "3.12.3"
  }
 },
 "nbformat": 4,
 "nbformat_minor": 5
}
