{
 "cells": [
  {
   "cell_type": "code",
   "execution_count": 2,
   "id": "67399839",
   "metadata": {},
   "outputs": [],
   "source": [
    "import apache_beam as beam\n",
    "import apache_beam.runners.interactive.interactive_beam as ibm"
   ]
  },
  {
   "cell_type": "markdown",
   "id": "aa5dfe19",
   "metadata": {},
   "source": [
    "## Very important to know:\n",
    "- Apache beam is a programming model for processing large datasets , transforming them and output it to the desired runners (Spark, Apache Flink or Google Dataflow), which are the ones we want to execute our job on.\n",
    "\n",
    "\n",
    "\n",
    "\n",
    "\n",
    "\n",
    "\n",
    "\n",
    "\n",
    "\n",
    "\n",
    "\n",
    "\n",
    "\n",
    "\n",
    "\n"
   ]
  },
  {
   "cell_type": "markdown",
   "id": "cfdbe26d",
   "metadata": {},
   "source": [
    "# Structure of Beam code:\n",
    "- Create a pipeline.\n",
    "- Input the data.\n",
    "- Transform the data.\n",
    "- Display data"
   ]
  },
  {
   "cell_type": "markdown",
   "id": "8fa5d38d",
   "metadata": {},
   "source": [
    "# Apache Beam pipeline"
   ]
  },
  {
   "cell_type": "code",
   "execution_count": 3,
   "id": "f3fcfeb9",
   "metadata": {},
   "outputs": [
    {
     "data": {
      "text/plain": [
       "apache_beam.pipeline.Pipeline"
      ]
     },
     "execution_count": 3,
     "metadata": {},
     "output_type": "execute_result"
    }
   ],
   "source": [
    "p1 = beam.Pipeline()\n",
    "type(p1)"
   ]
  },
  {
   "cell_type": "code",
   "execution_count": 7,
   "id": "842bd955",
   "metadata": {},
   "outputs": [],
   "source": [
    "find_cubes = ( p1 \n",
    "         | \"Create Element\" >> beam.Create([1,5,8]) # Step 1: Create a PCollection with numbers from 0 to 9\n",
    "         | \"Find Cubes\" >> beam.Map(lambda x: x ** 3) # Step 2: Map each number to its cube\n",
    "           | \"Print Result\" >> beam.Map(print) # Step 3: Print each cube\n",
    "         ) \n",
    "# We can also add another data types like\n",
    "# beam.Create({'foo':'bar'})\n",
    "# beam.Create(range(10))"
   ]
  },
  {
   "cell_type": "code",
   "execution_count": 5,
   "id": "e49a6f66",
   "metadata": {},
   "outputs": [
    {
     "data": {
      "text/plain": [
       "<PCollection[[4]: Print Result.None] at 0x7f9efc17b0e0>"
      ]
     },
     "execution_count": 5,
     "metadata": {},
     "output_type": "execute_result"
    }
   ],
   "source": [
    "find_cubes"
   ]
  },
  {
   "cell_type": "code",
   "execution_count": 10,
   "id": "4fe17cda",
   "metadata": {},
   "outputs": [],
   "source": [
    "#p1.run() # Execute the pipeline"
   ]
  },
  {
   "cell_type": "markdown",
   "id": "f4afbe78",
   "metadata": {},
   "source": [
    "# Flatten\n",
    "\n",
    "Flatten is a transformation that combines multiple PCollections of the same type into a single PCollection."
   ]
  },
  {
   "cell_type": "code",
   "execution_count": 11,
   "id": "a7466de2",
   "metadata": {},
   "outputs": [
    {
     "name": "stdout",
     "output_type": "stream",
     "text": [
      "1\n",
      "125\n",
      "512\n",
      "1\n",
      "125\n",
      "512\n",
      "1\n",
      "3\n",
      "5\n",
      "7\n",
      "9\n",
      "8\n",
      "2\n",
      "4\n",
      "6\n",
      "8\n",
      "2\n",
      "4\n",
      "6\n",
      "1\n",
      "3\n",
      "5\n",
      "7\n",
      "9\n"
     ]
    },
    {
     "data": {
      "text/plain": [
       "<apache_beam.runners.portability.fn_api_runner.fn_runner.RunnerResult at 0x7f9ef6b38e90>"
      ]
     },
     "execution_count": 11,
     "metadata": {},
     "output_type": "execute_result"
    }
   ],
   "source": [
    "even = {2,4,6,8}\n",
    "odd = {1,3,5,7,9}\n",
    "\n",
    "even_p1 = p1 | \"Even Numb:\" >> beam.Create(even)\n",
    "odd_p1 = p1 | \"Odd Numb:\" >> beam.Create(odd)\n",
    "flat_out = (even_p1,odd_p1) | beam.Flatten() | beam.Map(print)\n",
    "p1.run() \n"
   ]
  },
  {
   "cell_type": "code",
   "execution_count": null,
   "id": "00f15fa2",
   "metadata": {},
   "outputs": [],
   "source": []
  }
 ],
 "metadata": {
  "kernelspec": {
   "display_name": "beam",
   "language": "python",
   "name": "python3"
  },
  "language_info": {
   "codemirror_mode": {
    "name": "ipython",
    "version": 3
   },
   "file_extension": ".py",
   "mimetype": "text/x-python",
   "name": "python",
   "nbconvert_exporter": "python",
   "pygments_lexer": "ipython3",
   "version": "3.12.3"
  }
 },
 "nbformat": 4,
 "nbformat_minor": 5
}
